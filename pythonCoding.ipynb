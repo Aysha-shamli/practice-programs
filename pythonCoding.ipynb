{
 "cells": [
  {
   "cell_type": "code",
   "execution_count": 1,
   "id": "79d989af",
   "metadata": {},
   "outputs": [
    {
     "name": "stdout",
     "output_type": "stream",
     "text": [
      "hello world\n"
     ]
    }
   ],
   "source": [
    "print(\"hello world\")"
   ]
  },
  {
   "cell_type": "code",
   "execution_count": 2,
   "id": "edd77724",
   "metadata": {},
   "outputs": [
    {
     "name": "stdout",
     "output_type": "stream",
     "text": [
      "Defaulting to user installation because normal site-packages is not writeable\n",
      "Requirement already satisfied: beautifulsoup4 in c:\\programdata\\anaconda3\\lib\\site-packages (4.11.1)\n",
      "Requirement already satisfied: soupsieve>1.2 in c:\\programdata\\anaconda3\\lib\\site-packages (from beautifulsoup4) (2.3.2.post1)\n",
      "Note: you may need to restart the kernel to use updated packages.\n"
     ]
    }
   ],
   "source": [
    "pip install beautifulsoup4"
   ]
  },
  {
   "cell_type": "code",
   "execution_count": 3,
   "id": "8444a7ea",
   "metadata": {},
   "outputs": [
    {
     "name": "stdout",
     "output_type": "stream",
     "text": [
      "Defaulting to user installation because normal site-packages is not writeable\n",
      "Requirement already satisfied: requests in c:\\programdata\\anaconda3\\lib\\site-packages (2.28.1)\n",
      "Requirement already satisfied: idna<4,>=2.5 in c:\\programdata\\anaconda3\\lib\\site-packages (from requests) (3.4)\n",
      "Requirement already satisfied: certifi>=2017.4.17 in c:\\programdata\\anaconda3\\lib\\site-packages (from requests) (2022.12.7)\n",
      "Requirement already satisfied: charset-normalizer<3,>=2 in c:\\programdata\\anaconda3\\lib\\site-packages (from requests) (2.0.4)\n",
      "Requirement already satisfied: urllib3<1.27,>=1.21.1 in c:\\programdata\\anaconda3\\lib\\site-packages (from requests) (1.26.14)\n",
      "Note: you may need to restart the kernel to use updated packages.\n"
     ]
    }
   ],
   "source": [
    "pip install requests"
   ]
  },
  {
   "cell_type": "code",
   "execution_count": 4,
   "id": "3f0f3710",
   "metadata": {},
   "outputs": [],
   "source": [
    "import sys\n",
    "import time\n",
    "from bs4 import BeautifulSoup \n",
    "import requests\n",
    "import pandas as pd"
   ]
  },
  {
   "cell_type": "code",
   "execution_count": 16,
   "id": "9347617e",
   "metadata": {},
   "outputs": [],
   "source": [
    "page = requests.get(\"https://www.cricbuzz.com/\")\n",
    "\n",
    "time.sleep(2)\n",
    "soup = BeautifulSoup(page.text,'html.parser')\n",
    "links = soup.find_all('div',attrs={'class':'cb-nws-intr'})"
   ]
  },
  {
   "cell_type": "code",
   "execution_count": 17,
   "id": "e9b7f489",
   "metadata": {},
   "outputs": [
    {
     "name": "stdout",
     "output_type": "stream",
     "text": [
      "Tilak Varma's unbeaten 84 goes in vain as MI suffer huge loss\n",
      "\n",
      "\n",
      "Buttler, Jaiswan and Samson fifties propelled RR to 203/5 before Chahal and Boult reduced SRH to 81/7 after the hosts opted to bowl first\n",
      "\n",
      "\n",
      "CSK made a losing start to IPL 2023 but have a grip over their home conditions like no other side in the league\n",
      "\n",
      "\n",
      "Boundaries rained at the Wanderers where South Africa made short work of Netherlands in the third ODI\n",
      "\n",
      "\n",
      "Asalanka, Hasaranga and Theekshana starred in a high-scoring game at Eden Park\n",
      "\n",
      "\n",
      "Like in IPL 2022, stars aligned for the Sri Lankan batter to get a game early, and like in IPL 2022, he made the most of it\n",
      "\n",
      "\n",
      "The express-pacer blew away the Capitals in their opening encounter of IPL 2023\n",
      "\n",
      "\n",
      "Durani, born in Kabul in 1934, played 29 Tests from 1960 to 1973\n",
      "\n",
      "\n",
      "Shakib Al Hasan and Litton Das have been denied permission from the BCB to skip the one-off Test and play in the IPL\n",
      "\n",
      "\n",
      "Meanwhile, PNG slide to relegation, and will be stripped off their ODI status in the next cycle\n",
      "\n",
      "\n",
      "A common refrain in T20 cricket is that batters win you matches and bowlers win you tournaments, but is this true? A deep dive into the numbers shows whether it is worth weighing team strength towards one discipline or the other\n",
      "\n",
      "\n",
      "All that's happening in the lead up to the 16th edition of IPL\n",
      "\n",
      "\n",
      "Dane Van Niekerk knows how costly a misstep can be. From breaking her ankle to getting the fittest she's been to missing a World Cup berth by a matter of seconds, it's been an emotional rollercoaster that culminates in her international retirement. She opens about it in this tell-all interview\n",
      "\n",
      "\n",
      "Having long manifested the day when she would clinch a trophy of significance to Indian cricket, she finally tasted success in the inaugural edition of WPL\n",
      "\n",
      "\n",
      "Having beaten India in the WTC Final in 2021, New Zealand have lent a helping hand in putting them in the next one in June this year\n",
      "\n",
      "\n",
      "Most Kohli hundreds have had the effect of being played to the soundtrack of an electric guitar solo. But this one had the more calming effect of a string quartet performance\n",
      "\n",
      "\n",
      "In what proved to be a test of patience and stock ball, the Australians had to bowl for nearly 180 overs in India's first innings\n",
      "\n",
      "\n",
      "News byte that you may have otherwise missed\n",
      "\n",
      "\n",
      "His aggression, bulging eyes and other on-field romps are completely at odds with the Siraj people know off the field. It is part of what makes him indispensable to India\n",
      "\n",
      "\n",
      "Cricket has always accelerated with the culture in which it must survive. A trip to a new-age Batting Laboratory serves as a reminder of all the ways in which it is doing so again\n",
      "\n",
      "\n"
     ]
    }
   ],
   "source": [
    "for i in links:\n",
    "    print(i.text)\n",
    "    print(\"\\n\")\n",
    "    "
   ]
  },
  {
   "cell_type": "code",
   "execution_count": null,
   "id": "443a5606",
   "metadata": {},
   "outputs": [],
   "source": []
  },
  {
   "cell_type": "code",
   "execution_count": null,
   "id": "ad305c99",
   "metadata": {},
   "outputs": [],
   "source": []
  },
  {
   "cell_type": "code",
   "execution_count": null,
   "id": "bf4e58ae",
   "metadata": {},
   "outputs": [],
   "source": []
  },
  {
   "cell_type": "code",
   "execution_count": null,
   "id": "774b65b0",
   "metadata": {},
   "outputs": [],
   "source": []
  }
 ],
 "metadata": {
  "kernelspec": {
   "display_name": "Python 3 (ipykernel)",
   "language": "python",
   "name": "python3"
  },
  "language_info": {
   "codemirror_mode": {
    "name": "ipython",
    "version": 3
   },
   "file_extension": ".py",
   "mimetype": "text/x-python",
   "name": "python",
   "nbconvert_exporter": "python",
   "pygments_lexer": "ipython3",
   "version": "3.10.9"
  }
 },
 "nbformat": 4,
 "nbformat_minor": 5
}
