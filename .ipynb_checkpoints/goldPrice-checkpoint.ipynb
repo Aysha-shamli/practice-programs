{
 "cells": [
  {
   "cell_type": "code",
   "execution_count": null,
   "id": "3d4a3aad",
   "metadata": {},
   "outputs": [],
   "source": []
  },
  {
   "cell_type": "code",
   "execution_count": 1,
   "id": "6c45a32d",
   "metadata": {},
   "outputs": [],
   "source": [
    "import json\n",
    "import sys\n",
    "import time \n",
    "import requests"
   ]
  },
  {
   "cell_type": "code",
   "execution_count": null,
   "id": "401b15d8",
   "metadata": {},
   "outputs": [
    {
     "name": "stdout",
     "output_type": "stream",
     "text": [
      "22 carat price =5,470.00 INR\n",
      "24 carat price =5,967.00 INR\n",
      "time:03/04/2023 2:50 PM\n",
      "22 carat price =5,470.00 INR\n",
      "24 carat price =5,967.00 INR\n",
      "time:03/04/2023 3:00 PM\n",
      "22 carat price =5,470.00 INR\n",
      "24 carat price =5,967.00 INR\n",
      "time:03/04/2023 3:00 PM\n",
      "22 carat price =5,470.00 INR\n",
      "24 carat price =5,967.00 INR\n",
      "time:03/04/2023 3:00 PM\n"
     ]
    }
   ],
   "source": [
    "while(True):\n",
    "    page = requests.get(\"https://www.malabargoldanddiamonds.com/malabarprice/index/getrates/?country=IN&state=Kerala\")\n",
    "    json_obj = json.loads(page.text)\n",
    "    kt22_price = json_obj[\"22kt\"]\n",
    "    kt24_price= json_obj[\"24kt\"]\n",
    "    updatedtime= json_obj[\"updated_time\"]\n",
    "    print(\"22 carat price =\" + str(kt22_price) +\"\\n\" + \"24 carat price =\"+str(kt24_price)+\"\\n\"+ \"time:\"+str(updatedtime))\n",
    "    time.sleep(10)"
   ]
  },
  {
   "cell_type": "code",
   "execution_count": null,
   "id": "e8f1151c",
   "metadata": {},
   "outputs": [],
   "source": []
  },
  {
   "cell_type": "code",
   "execution_count": null,
   "id": "a116b309",
   "metadata": {},
   "outputs": [],
   "source": [
    "\n"
   ]
  },
  {
   "cell_type": "code",
   "execution_count": null,
   "id": "d0f3b7fd",
   "metadata": {},
   "outputs": [],
   "source": []
  },
  {
   "cell_type": "code",
   "execution_count": null,
   "id": "c17cc56f",
   "metadata": {},
   "outputs": [],
   "source": []
  }
 ],
 "metadata": {
  "kernelspec": {
   "display_name": "Python 3 (ipykernel)",
   "language": "python",
   "name": "python3"
  },
  "language_info": {
   "codemirror_mode": {
    "name": "ipython",
    "version": 3
   },
   "file_extension": ".py",
   "mimetype": "text/x-python",
   "name": "python",
   "nbconvert_exporter": "python",
   "pygments_lexer": "ipython3",
   "version": "3.10.9"
  }
 },
 "nbformat": 4,
 "nbformat_minor": 5
}
