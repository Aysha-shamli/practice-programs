{
 "cells": [
  {
   "cell_type": "code",
   "execution_count": null,
   "id": "813a45b5",
   "metadata": {},
   "outputs": [],
   "source": []
  },
  {
   "cell_type": "code",
   "execution_count": 1,
   "id": "3d81198f",
   "metadata": {},
   "outputs": [],
   "source": [
    "import json\n",
    "import sys\n",
    "import time \n",
    "import requests"
   ]
  },
  {
   "cell_type": "code",
   "execution_count": null,
   "id": "1ac55873",
   "metadata": {},
   "outputs": [
    {
     "name": "stdout",
     "output_type": "stream",
     "text": [
      "22 carat price =5,470.00 INR\n",
      "24 carat price =5,967.00 INR\n",
      "time:03/04/2023 2:50 PM\n",
      "22 carat price =5,470.00 INR\n",
      "24 carat price =5,967.00 INR\n",
      "time:03/04/2023 3:00 PM\n",
      "22 carat price =5,470.00 INR\n",
      "24 carat price =5,967.00 INR\n",
      "time:03/04/2023 3:00 PM\n",
      "22 carat price =5,470.00 INR\n",
      "24 carat price =5,967.00 INR\n",
      "time:03/04/2023 3:00 PM\n",
      "22 carat price =5,470.00 INR\n",
      "24 carat price =5,967.00 INR\n",
      "time:03/04/2023 3:00 PM\n",
      "22 carat price =5,470.00 INR\n",
      "24 carat price =5,967.00 INR\n",
      "time:03/04/2023 3:00 PM\n",
      "22 carat price =5,470.00 INR\n",
      "24 carat price =5,967.00 INR\n",
      "time:03/04/2023 3:00 PM\n"
     ]
    }
   ],
   "source": [
    "while(True):\n",
    "    page = requests.get(\"https://www.malabargoldanddiamonds.com/malabarprice/index/getrates/?country=IN&state=Kerala\")\n",
    "    json_obj = json.loads(page.text)\n",
    "    kt22_price = json_obj[\"22kt\"]\n",
    "    kt24_price= json_obj[\"24kt\"]\n",
    "    updatedtime= json_obj[\"updated_time\"]\n",
    "    print(\"22 carat price =\" + str(kt22_price) +\"\\n\" + \"24 carat price =\"+str(kt24_price)+\"\\n\"+ \"time:\"+str(updatedtime))\n",
    "    time.sleep(10)"
   ]
  },
  {
   "cell_type": "code",
   "execution_count": null,
   "id": "7bcb31fb",
   "metadata": {},
   "outputs": [],
   "source": []
  },
  {
   "cell_type": "code",
   "execution_count": null,
   "id": "1f2d4dfe",
   "metadata": {},
   "outputs": [],
   "source": [
    "\n"
   ]
  },
  {
   "cell_type": "code",
   "execution_count": null,
   "id": "b6ddcfd8",
   "metadata": {},
   "outputs": [],
   "source": []
  },
  {
   "cell_type": "code",
   "execution_count": null,
   "id": "a1d8f4a8",
   "metadata": {},
   "outputs": [],
   "source": []
  }
 ],
 "metadata": {
  "kernelspec": {
   "display_name": "Python 3 (ipykernel)",
   "language": "python",
   "name": "python3"
  },
  "language_info": {
   "codemirror_mode": {
    "name": "ipython",
    "version": 3
   },
   "file_extension": ".py",
   "mimetype": "text/x-python",
   "name": "python",
   "nbconvert_exporter": "python",
   "pygments_lexer": "ipython3",
   "version": "3.10.9"
  }
 },
 "nbformat": 4,
 "nbformat_minor": 5
}
